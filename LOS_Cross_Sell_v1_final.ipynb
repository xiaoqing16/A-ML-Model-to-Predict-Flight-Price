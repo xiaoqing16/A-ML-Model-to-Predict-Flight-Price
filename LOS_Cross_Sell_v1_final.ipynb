{
  "nbformat": 4,
  "nbformat_minor": 0,
  "metadata": {
    "colab": {
      "provenance": [],
      "mount_file_id": "13ETAlxK_e_sKXAhVkrWdqqA6RAzTaJAX",
      "authorship_tag": "ABX9TyMIyFyN7TW/LnPQGKGOPXKq"
    },
    "kernelspec": {
      "name": "python3",
      "display_name": "Python 3"
    },
    "language_info": {
      "name": "python"
    }
  },
  "cells": [
    {
      "cell_type": "code",
      "execution_count": 101,
      "metadata": {
        "id": "UlAQvm6LyQSg"
      },
      "outputs": [],
      "source": [
        "# load libraries\n",
        "import pandas as pd\n",
        "import numpy as np\n",
        "import matplotlib.pyplot as plt\n",
        "import seaborn as sns"
      ]
    },
    {
      "cell_type": "code",
      "source": [
        "pd.set_option('display.max_columns', None)\n",
        "pd.set_option('display.max_rows', None)"
      ],
      "metadata": {
        "id": "nRfhpmt69jV8"
      },
      "execution_count": 102,
      "outputs": []
    },
    {
      "cell_type": "code",
      "source": [
        "from google.colab import drive\n",
        "drive.mount('/content/drive/')"
      ],
      "metadata": {
        "id": "dSO1SXnnSCV1",
        "colab": {
          "base_uri": "https://localhost:8080/"
        },
        "outputId": "01784c62-7ec0-4767-983e-4d270a6930fe"
      },
      "execution_count": 103,
      "outputs": [
        {
          "output_type": "stream",
          "name": "stdout",
          "text": [
            "Drive already mounted at /content/drive/; to attempt to forcibly remount, call drive.mount(\"/content/drive/\", force_remount=True).\n"
          ]
        }
      ]
    },
    {
      "cell_type": "code",
      "source": [
        "# import data\n",
        "%cd /content/drive/My Drive/Colab Notebooks/Data/Cross_Sell\n",
        "data = pd.read_table(\"LOS_Cross_Sell_v1.txt\", delimiter=\"|\")\n",
        "data.info()"
      ],
      "metadata": {
        "id": "8FB8ABDBSZw6",
        "colab": {
          "base_uri": "https://localhost:8080/"
        },
        "outputId": "1e899cf3-df30-41f7-c0de-b85b2386e767"
      },
      "execution_count": 104,
      "outputs": [
        {
          "output_type": "stream",
          "name": "stdout",
          "text": [
            "/content/drive/My Drive/Colab Notebooks/Data/Cross_Sell\n",
            "<class 'pandas.core.frame.DataFrame'>\n",
            "RangeIndex: 372842 entries, 0 to 372841\n",
            "Data columns (total 57 columns):\n",
            " #   Column                      Non-Null Count   Dtype  \n",
            "---  ------                      --------------   -----  \n",
            " 0   #customernumber             372842 non-null  int64  \n",
            " 1   sex                         372842 non-null  object \n",
            " 2   calc_customerinfo_age       372842 non-null  int64  \n",
            " 3   nationality                 372842 non-null  object \n",
            " 4   residencystatus             372641 non-null  object \n",
            " 5   race                        372842 non-null  int64  \n",
            " 6   maritalstatus               372842 non-null  int64  \n",
            " 7   academicqualification       131855 non-null  float64\n",
            " 8   staywith                    342439 non-null  float64\n",
            " 9   numberofdependent           372833 non-null  float64\n",
            " 10  employmenttype              372828 non-null  float64\n",
            " 11  businessnature              372840 non-null  float64\n",
            " 12  residentialpostcode         372840 non-null  float64\n",
            " 13  residentialstatecode        372839 non-null  object \n",
            " 14  residentialcity             372841 non-null  object \n",
            " 15  employerstatecode           372840 non-null  object \n",
            " 16  jobtitle                    372654 non-null  object \n",
            " 17  yearofservices              372669 non-null  float64\n",
            " 18  grosssalary                 372656 non-null  float64\n",
            " 19  nettsalary                  372656 non-null  float64\n",
            " 20  annualincome                372656 non-null  float64\n",
            " 21  paysliptype                 372404 non-null  float64\n",
            " 22  totalapplicationcount       372842 non-null  int64  \n",
            " 23  epcreditlostcount           372842 non-null  int64  \n",
            " 24  epactivecount               372842 non-null  int64  \n",
            " 25  akpk                        372842 non-null  int64  \n",
            " 26  fraud                       372842 non-null  int64  \n",
            " 27  riskgroup                   372842 non-null  int64  \n",
            " 28  productlimitoutstanding     372842 non-null  float64\n",
            " 29  eppflimitoutstanding        372842 non-null  float64\n",
            " 30  commitmentnetsalary         372842 non-null  float64\n",
            " 31  totalcommitment             372842 non-null  float64\n",
            " 32  totalinstallment            372842 non-null  float64\n",
            " 33  nonbankcommitment           372842 non-null  float64\n",
            " 34  first_eppfhistory           88572 non-null   float64\n",
            " 35  passscoringflag             334143 non-null  object \n",
            " 36  finalscore                  333905 non-null  float64\n",
            " 37  currentrepaymentratio       363240 non-null  float64\n",
            " 38  newdsr                      363240 non-null  float64\n",
            " 39  scorerank                   363196 non-null  object \n",
            " 40  newrepaymentratio           363240 non-null  float64\n",
            " 41  netdisposableincome         363240 non-null  float64\n",
            " 42  min_cashprice               372707 non-null  float64\n",
            " 43  average_cashprice           372707 non-null  float64\n",
            " 44  max_cashprice               372707 non-null  float64\n",
            " 45  min_financeprice            372707 non-null  float64\n",
            " 46  average_financeprice        372707 non-null  float64\n",
            " 47  max_financeprice            372707 non-null  float64\n",
            " 48  average_interest            372842 non-null  float64\n",
            " 49  average_term                372842 non-null  float64\n",
            " 50  average_monthly_instalment  372842 non-null  float64\n",
            " 51  total_approved_record       372842 non-null  int64  \n",
            " 52  total_declined_record       372842 non-null  int64  \n",
            " 53  app_channel_online          372842 non-null  int64  \n",
            " 54  app_channel_offline         372842 non-null  int64  \n",
            " 55  app_channel_internal        372842 non-null  int64  \n",
            " 56  target                      372842 non-null  int64  \n",
            "dtypes: float64(32), int64(16), object(9)\n",
            "memory usage: 162.1+ MB\n"
          ]
        }
      ]
    },
    {
      "cell_type": "code",
      "source": [
        "# get percentage count of target variable\n",
        "data['target'].value_counts()"
      ],
      "metadata": {
        "id": "cplxVYRYaLVF",
        "colab": {
          "base_uri": "https://localhost:8080/"
        },
        "outputId": "e3c94ae9-bf26-4ff1-a34a-9f2de85b0888"
      },
      "execution_count": 105,
      "outputs": [
        {
          "output_type": "execute_result",
          "data": {
            "text/plain": [
              "0    366374\n",
              "1      6468\n",
              "Name: target, dtype: int64"
            ]
          },
          "metadata": {},
          "execution_count": 105
        }
      ]
    },
    {
      "cell_type": "code",
      "source": [
        "# Define function to take largest digit from a number\n",
        "def Largestdigit(n):\n",
        "   largest_digit = 0\n",
        "   smallest_digit = 9\n",
        "   while (n):\n",
        "       digit = n % 10\n",
        "       largest_digit = max(digit, largest_digit)\n",
        "       n = n // 10\n",
        "   return largest_digit"
      ],
      "metadata": {
        "id": "xRNiXphchSmR"
      },
      "execution_count": 106,
      "outputs": []
    },
    {
      "cell_type": "code",
      "source": [
        "data['first_eppfhistory'] = data['first_eppfhistory'].apply(lambda x: Largestdigit(x) if pd.notnull(x) else x)\n",
        "data['first_eppfhistory'] = data['first_eppfhistory'].fillna(\"-9999\")\n",
        "\n",
        "data['first_eppfhistory'].value_counts()"
      ],
      "metadata": {
        "id": "aA-wfxvih8EZ",
        "colab": {
          "base_uri": "https://localhost:8080/"
        },
        "outputId": "05ff7570-6662-4764-e576-c2014df2e4b2"
      },
      "execution_count": 107,
      "outputs": [
        {
          "output_type": "execute_result",
          "data": {
            "text/plain": [
              "-9999    284270\n",
              "0.0       70420\n",
              "1.0        6937\n",
              "6.0        3846\n",
              "2.0        3099\n",
              "3.0        1435\n",
              "7.0         880\n",
              "4.0         721\n",
              "5.0         610\n",
              "9.0         497\n",
              "8.0         127\n",
              "Name: first_eppfhistory, dtype: int64"
            ]
          },
          "metadata": {},
          "execution_count": 107
        }
      ]
    },
    {
      "cell_type": "code",
      "source": [
        "# replace wrong value\n",
        "data.at[207914,'residentialcity']='Sibu'\n",
        "data.at[207914,'residentialstatecode']='Sarawak'\n",
        "data.at[207914,'residentialpostcode']='96000'\n",
        "data.at[207914,'employerstatecode']='Sarawak'\n",
        "\n",
        "data.at[103021,'residentialcity']='Alor Setar'\n",
        "data.at[103021,'residentialstatecode']='Kedah'\n",
        "data.at[103021,'residentialpostcode']='05400'\n",
        "data.at[103021,'employerstatecode']='WP Kuala Lumpur'\n",
        "\n",
        "data.at[328413,'residentialstatecode']='Pahang'\n",
        "\n",
        "data.at[149469,'residentialcity']='Tanah Merah'\n",
        "data.at[149469,'residentialstatecode']='Kelantan'\n",
        "data.at[149469,'employerstatecode']='Kelantan'\n",
        "\n",
        "# replace inconsistence values\n",
        "data['residentialstatecode'] = data['residentialstatecode'].replace(['KUALA LUMPUR'],['WP Kuala Lumpur'])\n",
        "data['employerstatecode'] = data['employerstatecode'].replace(['KUALA LUMPUR'],['WP Kuala Lumpur'])\n",
        "data['employerstatecode'] = data['employerstatecode'].replace(['MALACCA'],['Melaka'])\n",
        "\n",
        "data['sex'] = data['sex'].replace(['1'],['M'])\n",
        "data['sex'] = data['sex'].replace(['2'],['F'])\n",
        "\n",
        "data['race'] = data['race'].replace([1],['Malay'])\n",
        "data['race'] = data['race'].replace([2],['Chinese'])\n",
        "data['race'] = data['race'].replace([3],['Indian'])\n",
        "data['race'] = data['race'].replace([4],['Others'])\n",
        "\n",
        "data['maritalstatus'] = data['maritalstatus'].replace([1],['Married'])\n",
        "data['maritalstatus'] = data['maritalstatus'].replace([2],['Single'])\n",
        "data['maritalstatus'] = data['maritalstatus'].replace([3],['Divorced'])\n",
        "data['maritalstatus'] = data['maritalstatus'].replace([4],['WIndowed'])\n",
        "\n",
        "data['staywith'] = data['staywith'].replace([1],['Spouse'])\n",
        "data['staywith'] = data['staywith'].replace([2],['Family'])\n",
        "data['staywith'] = data['staywith'].replace([3],['Parent'])\n",
        "data['staywith'] = data['staywith'].replace([4],['Siblings'])\n",
        "data['staywith'] = data['staywith'].replace([5],['Relative'])\n",
        "data['staywith'] = data['staywith'].replace([6],['Friend'])\n",
        "data['staywith'] = data['staywith'].replace([7],['Alone'])\n",
        "\n",
        "data['numberofdependent'] = data['numberofdependent'].replace([-1],[0])\n",
        "data['numberofdependent'] = data['numberofdependent'].apply(lambda x: 0 if x>10 else x)\n",
        "\n",
        "data['jobtitle'] = data['jobtitle'].replace(to_replace ='[a-zA-Z]', value = 90, regex = True)\n",
        "\n",
        "data['target'] = data['target'].replace([1],['Yes'])\n",
        "data['target'] = data['target'].replace([0],['No'])"
      ],
      "metadata": {
        "id": "OTfu5euQae9d"
      },
      "execution_count": 108,
      "outputs": []
    },
    {
      "cell_type": "code",
      "source": [
        "# drop this column because most of the value is NA\n",
        "data = data.drop(['academicqualification'], axis=1)\n",
        "data = data.drop(['total_approved_record'], axis=1)\n",
        "data = data.drop(['total_declined_record'], axis=1)\n",
        "\n",
        "#drop na value\n",
        "data = data.dropna()\n",
        "\n",
        "# drop data for specific situation\n",
        "condition = data['race'] == 90\n",
        "data = data.loc[~condition]\n",
        "\n",
        "condition = data['employmenttype'] == 0\n",
        "data = data.loc[~condition]\n",
        "\n",
        "condition = data['jobtitle'] == 0\n",
        "data = data.loc[~condition]"
      ],
      "metadata": {
        "id": "ttT3cyFM2wU7"
      },
      "execution_count": 109,
      "outputs": []
    },
    {
      "cell_type": "code",
      "source": [
        "data['sex'] = data['sex'].replace(['1'],['M'])\n",
        "data['sex'] = data['sex'].replace(['2'],['F'])\n",
        "data['sex'].value_counts()"
      ],
      "metadata": {
        "colab": {
          "base_uri": "https://localhost:8080/"
        },
        "id": "7KUQLv1Y56Ix",
        "outputId": "b5275664-f01f-4031-845b-d5b684a1b61f"
      },
      "execution_count": 110,
      "outputs": [
        {
          "output_type": "execute_result",
          "data": {
            "text/plain": [
              "M    204314\n",
              "F    106338\n",
              "Name: sex, dtype: int64"
            ]
          },
          "metadata": {},
          "execution_count": 110
        }
      ]
    },
    {
      "cell_type": "code",
      "source": [
        "data['target'].value_counts(normalize=True)"
      ],
      "metadata": {
        "id": "ewpU07vgvSE8",
        "colab": {
          "base_uri": "https://localhost:8080/"
        },
        "outputId": "1b6cf519-3d31-4765-faaa-8f8063e8e389"
      },
      "execution_count": 111,
      "outputs": [
        {
          "output_type": "execute_result",
          "data": {
            "text/plain": [
              "No     0.99426\n",
              "Yes    0.00574\n",
              "Name: target, dtype: float64"
            ]
          },
          "metadata": {},
          "execution_count": 111
        }
      ]
    },
    {
      "cell_type": "code",
      "source": [
        "from google.colab import files\n",
        "data = data.drop(['#customernumber'], axis=1)\n",
        "data.to_csv('output.csv', encoding = 'utf-8-sig', index=False) \n",
        "files.download('output.csv')"
      ],
      "metadata": {
        "id": "Ml2R9ikQ_ExY",
        "colab": {
          "base_uri": "https://localhost:8080/",
          "height": 17
        },
        "outputId": "8420d7f2-fd83-4a4b-cd95-a8971ae66fdd"
      },
      "execution_count": 112,
      "outputs": [
        {
          "output_type": "display_data",
          "data": {
            "text/plain": [
              "<IPython.core.display.Javascript object>"
            ],
            "application/javascript": [
              "\n",
              "    async function download(id, filename, size) {\n",
              "      if (!google.colab.kernel.accessAllowed) {\n",
              "        return;\n",
              "      }\n",
              "      const div = document.createElement('div');\n",
              "      const label = document.createElement('label');\n",
              "      label.textContent = `Downloading \"${filename}\": `;\n",
              "      div.appendChild(label);\n",
              "      const progress = document.createElement('progress');\n",
              "      progress.max = size;\n",
              "      div.appendChild(progress);\n",
              "      document.body.appendChild(div);\n",
              "\n",
              "      const buffers = [];\n",
              "      let downloaded = 0;\n",
              "\n",
              "      const channel = await google.colab.kernel.comms.open(id);\n",
              "      // Send a message to notify the kernel that we're ready.\n",
              "      channel.send({})\n",
              "\n",
              "      for await (const message of channel.messages) {\n",
              "        // Send a message to notify the kernel that we're ready.\n",
              "        channel.send({})\n",
              "        if (message.buffers) {\n",
              "          for (const buffer of message.buffers) {\n",
              "            buffers.push(buffer);\n",
              "            downloaded += buffer.byteLength;\n",
              "            progress.value = downloaded;\n",
              "          }\n",
              "        }\n",
              "      }\n",
              "      const blob = new Blob(buffers, {type: 'application/binary'});\n",
              "      const a = document.createElement('a');\n",
              "      a.href = window.URL.createObjectURL(blob);\n",
              "      a.download = filename;\n",
              "      div.appendChild(a);\n",
              "      a.click();\n",
              "      div.remove();\n",
              "    }\n",
              "  "
            ]
          },
          "metadata": {}
        },
        {
          "output_type": "display_data",
          "data": {
            "text/plain": [
              "<IPython.core.display.Javascript object>"
            ],
            "application/javascript": [
              "download(\"download_51885362-a188-4169-9bad-b6b9c1aa0173\", \"output.csv\", 82274509)"
            ]
          },
          "metadata": {}
        }
      ]
    }
  ]
}